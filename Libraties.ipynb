{
 "cells": [
  {
   "cell_type": "code",
   "execution_count": 4,
   "id": "fe5ec323-0d16-42d5-9775-4a8fc638b65d",
   "metadata": {},
   "outputs": [],
   "source": [
    "import cv2\n",
    "import pandas as pd\n",
    "import numpy as np"
   ]
  },
  {
   "cell_type": "code",
   "execution_count": 6,
   "id": "626481be-0859-40d2-a718-8545d7685266",
   "metadata": {},
   "outputs": [
    {
     "ename": "NameError",
     "evalue": "name 'objpoints' is not defined",
     "output_type": "error",
     "traceback": [
      "\u001b[1;31m---------------------------------------------------------------------------\u001b[0m",
      "\u001b[1;31mNameError\u001b[0m                                 Traceback (most recent call last)",
      "Cell \u001b[1;32mIn[6], line 2\u001b[0m\n\u001b[0;32m      1\u001b[0m \u001b[38;5;66;03m#calibrating camera\u001b[39;00m\n\u001b[1;32m----> 2\u001b[0m ret, mtx, dist, rvecs, tvecs \u001b[38;5;241m=\u001b[39mcv2\u001b[38;5;241m.\u001b[39mcalibrateCamera(objpoints,\n\u001b[0;32m      3\u001b[0m                                                   imgpoints,\n\u001b[0;32m      4\u001b[0m                                                   gray\u001b[38;5;241m.\u001b[39mshape[::\u001b[38;5;241m-\u001b[39m\u001b[38;5;241m1\u001b[39m],\n\u001b[0;32m      5\u001b[0m                                                   \u001b[38;5;28;01mNone\u001b[39;00m,\n\u001b[0;32m      6\u001b[0m                                                   \u001b[38;5;28;01mNone\u001b[39;00m)\n\u001b[0;32m      7\u001b[0m \u001b[38;5;66;03m#undistorting camera image\u001b[39;00m\n\u001b[0;32m      8\u001b[0m undistort \u001b[38;5;241m=\u001b[39m cv2\u001b[38;5;241m.\u001b[39mundistort(img, mtr, dist, \u001b[38;5;28;01mNone\u001b[39;00m, mtx)\n",
      "\u001b[1;31mNameError\u001b[0m: name 'objpoints' is not defined"
     ]
    }
   ],
   "source": [
    "#calibrating camera\n",
    "ret, mtx, dist, rvecs, tvecs =cv2.calibrateCamera(objpoints,\n",
    "                                                  imgpoints,\n",
    "                                                  gray.shape[::-1],\n",
    "                                                  None,\n",
    "                                                  None)\n",
    "#undistorting camera image\n",
    "undistort = cv2.undistort(img, mtr, dist, None, mtx)  "
   ]
  },
  {
   "cell_type": "code",
   "execution_count": 10,
   "id": "da134fc4-67af-423f-a12a-dc049092e709",
   "metadata": {
    "editable": true,
    "slideshow": {
     "slide_type": ""
    },
    "tags": []
   },
   "outputs": [
    {
     "ename": "AttributeError",
     "evalue": "module 'cv2' has no attribute 'getPerspectivTransform'",
     "output_type": "error",
     "traceback": [
      "\u001b[1;31m---------------------------------------------------------------------------\u001b[0m",
      "\u001b[1;31mAttributeError\u001b[0m                            Traceback (most recent call last)",
      "Cell \u001b[1;32mIn[10], line 2\u001b[0m\n\u001b[0;32m      1\u001b[0m \u001b[38;5;66;03m# using top view\u001b[39;00m\n\u001b[1;32m----> 2\u001b[0m T \u001b[38;5;241m=\u001b[39m cv2\u001b[38;5;241m.\u001b[39mgetPerspectivTransform(src, dist)\n",
      "\u001b[1;31mAttributeError\u001b[0m: module 'cv2' has no attribute 'getPerspectivTransform'"
     ]
    }
   ],
   "source": [
    "# using top view\n",
    "T = cv2.getPerspectivTransform(src, dist)"
   ]
  },
  {
   "cell_type": "code",
   "execution_count": null,
   "id": "d9fbc483-8577-483d-b279-d301b03f93ca",
   "metadata": {},
   "outputs": [],
   "source": [
    " "
   ]
  }
 ],
 "metadata": {
  "kernelspec": {
   "display_name": "Python 3 (ipykernel)",
   "language": "python",
   "name": "python3"
  },
  "language_info": {
   "codemirror_mode": {
    "name": "ipython",
    "version": 3
   },
   "file_extension": ".py",
   "mimetype": "text/x-python",
   "name": "python",
   "nbconvert_exporter": "python",
   "pygments_lexer": "ipython3",
   "version": "3.11.7"
  }
 },
 "nbformat": 4,
 "nbformat_minor": 5
}
