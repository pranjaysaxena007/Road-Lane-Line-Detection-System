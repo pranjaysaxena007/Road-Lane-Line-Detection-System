{
 "cells": [
  {
   "cell_type": "code",
   "execution_count": 10,
   "id": "fe5ec323-0d16-42d5-9775-4a8fc638b65d",
   "metadata": {},
   "outputs": [],
   "source": [
    "import pandas as pd\n",
    "import numpy as np"
   ]
  },
  {
   "cell_type": "code",
   "execution_count": 12,
   "id": "626481be-0859-40d2-a718-8545d7685266",
   "metadata": {},
   "outputs": [],
   "source": [
    "X = np.array ([[0,0,1],[0,1,1],[1,0,1],[1,1,1]])\n",
    "y = np.array ([[0,1,1,0]]).T"
   ]
  },
  {
   "cell_type": "code",
   "execution_count": 14,
   "id": "da134fc4-67af-423f-a12a-dc049092e709",
   "metadata": {},
   "outputs": [],
   "source": [
    "syn0 = 2*np.random.random((3,4)) - 1\n",
    "syn1 = 2*np.random.random((4,1)) - 1\n",
    "for j in range(6000):\n",
    "    l1 = 1/(1+np.exp(-(np.dot(X,syn0))))\n",
    "    l2 = 1/(1+np.exp(-(np.dot(l1,syn1))))\n",
    "    l2_delta = (y-l2)*(l2*(1-l2))\n",
    "    l1_delta = l2_delta.dot(syn1.T) * (l1*(1-l1))\n",
    "    syn1 += l1.T.dot(l2_delta)\n",
    "    syn0 += X.T.dot(l1_delta)"
   ]
  },
  {
   "cell_type": "code",
   "execution_count": null,
   "id": "d9fbc483-8577-483d-b279-d301b03f93ca",
   "metadata": {},
   "outputs": [],
   "source": []
  }
 ],
 "metadata": {
  "kernelspec": {
   "display_name": "Python 3 (ipykernel)",
   "language": "python",
   "name": "python3"
  },
  "language_info": {
   "codemirror_mode": {
    "name": "ipython",
    "version": 3
   },
   "file_extension": ".py",
   "mimetype": "text/x-python",
   "name": "python",
   "nbconvert_exporter": "python",
   "pygments_lexer": "ipython3",
   "version": "3.11.7"
  }
 },
 "nbformat": 4,
 "nbformat_minor": 5
}
