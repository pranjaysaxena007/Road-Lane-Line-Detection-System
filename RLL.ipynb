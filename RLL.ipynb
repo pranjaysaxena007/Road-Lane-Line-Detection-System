{
 "cells": [
  {
   "cell_type": "code",
   "execution_count": 9,
   "id": "270bf4fe-ff93-4888-a688-9a1ef30af76a",
   "metadata": {},
   "outputs": [],
   "source": [
    "import cv2\n",
    "import numpy as np\n"
   ]
  },
  {
   "cell_type": "code",
   "execution_count": 10,
   "id": "1b99a6d3-8f5f-4986-b7c9-d80fdd6cc798",
   "metadata": {},
   "outputs": [],
   "source": [
    "cap = cv2.VideoCapture('test_video.mp4')"
   ]
  },
  {
   "cell_type": "code",
   "execution_count": 11,
   "id": "bcded40d-d6c6-426f-a23b-190f5bdd606c",
   "metadata": {},
   "outputs": [],
   "source": [
    "def preprocess_frame(frame):\n",
    "    gray = cv2.cvtColor(frame, cv2.COLOR_BGR2GRAY)\n",
    "    blurred = cv2.GaussianBlur(gray, (5, 5), 0)\n",
    "    return blurred\n"
   ]
  },
  {
   "cell_type": "code",
   "execution_count": 12,
   "id": "ac1aab12-9bac-470b-b629-85f5bccca05a",
   "metadata": {},
   "outputs": [],
   "source": [
    "def detect_edges(blurred_frame):\n",
    "    edges = cv2.Canny(blurred_frame, 50, 150)\n",
    "    return edges\n"
   ]
  },
  {
   "cell_type": "code",
   "execution_count": 13,
   "id": "779f0846-3311-4f4d-bb8a-112ad1f167b5",
   "metadata": {},
   "outputs": [],
   "source": [
    "def region_of_interest(edges):\n",
    "    height, width = edges.shape\n",
    "    mask = np.zeros_like(edges)\n",
    "    \n",
    "    polygon = np.array([[\n",
    "        (int(0.1*width), height),\n",
    "        (int(0.4*width), int(0.6*height)),\n",
    "        (int(0.6*width), int(0.6*height)),\n",
    "        (int(0.9*width), height),\n",
    "    ]], np.int32)\n",
    "    \n",
    "    cv2.fillPoly(mask, polygon, 255)\n",
    "    cropped_edges = cv2.bitwise_and(edges, mask)\n",
    "    return cropped_edges\n"
   ]
  },
  {
   "cell_type": "code",
   "execution_count": 14,
   "id": "2f2e391d-a9b8-4eb0-9536-5bfac6c48b53",
   "metadata": {},
   "outputs": [],
   "source": [
    "def detect_lines(cropped_edges):\n",
    "    lines = cv2.HoughLinesP(cropped_edges, rho=1, theta=np.pi/180, threshold=50, \n",
    "                            minLineLength=50, maxLineGap=150)\n",
    "    return lines\n"
   ]
  },
  {
   "cell_type": "code",
   "execution_count": 15,
   "id": "9c24dac8-efad-4fef-a7e7-2842f3fa14c5",
   "metadata": {},
   "outputs": [],
   "source": [
    "def draw_lines(frame, lines):\n",
    "    line_image = np.zeros_like(frame)\n",
    "    if lines is not None:\n",
    "        for line in lines:\n",
    "            x1, y1, x2, y2 = line[0]\n",
    "            cv2.line(line_image, (x1, y1), (x2, y2), (255, 0, 0), 10)\n",
    "    combo_image = cv2.addWeighted(frame, 0.8, line_image, 1, 1)\n",
    "    return combo_image\n"
   ]
  },
  {
   "cell_type": "code",
   "execution_count": 16,
   "id": "7b127de2-8843-4ab7-89c1-a297d7ee9d44",
   "metadata": {},
   "outputs": [],
   "source": [
    "while cap.isOpened():\n",
    "    ret, frame = cap.read()\n",
    "    if not ret:\n",
    "        break\n",
    "    \n",
    "    blurred_frame = preprocess_frame(frame)\n",
    "    edges = detect_edges(blurred_frame)\n",
    "    cropped_edges = region_of_interest(edges)\n",
    "    lines = detect_lines(cropped_edges)\n",
    "    final_frame = draw_lines(frame, lines)\n",
    "    \n",
    "    cv2.imshow(\"Lane Detection\", final_frame)\n",
    "    \n",
    "    if cv2.waitKey(1) & 0xFF == ord('q'):\n",
    "        break\n",
    "\n",
    "cap.release()\n",
    "cv2.destroyAllWindows()\n"
   ]
  },
  {
   "cell_type": "code",
   "execution_count": null,
   "id": "2c239f65-7599-406a-af93-3a1126ad4a19",
   "metadata": {},
   "outputs": [],
   "source": []
  }
 ],
 "metadata": {
  "kernelspec": {
   "display_name": "Python 3 (ipykernel)",
   "language": "python",
   "name": "python3"
  },
  "language_info": {
   "codemirror_mode": {
    "name": "ipython",
    "version": 3
   },
   "file_extension": ".py",
   "mimetype": "text/x-python",
   "name": "python",
   "nbconvert_exporter": "python",
   "pygments_lexer": "ipython3",
   "version": "3.12.3"
  }
 },
 "nbformat": 4,
 "nbformat_minor": 5
}
