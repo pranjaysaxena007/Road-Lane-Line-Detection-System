{
 "cells": [
  {
   "cell_type": "code",
   "execution_count": 1,
   "id": "fbd72bc4-7dd4-4d3d-baf9-3bca12f7ca34",
   "metadata": {},
   "outputs": [
    {
     "data": {
      "text/plain": [
       "'\\nROAD LANE LINE DETECTION SYSTEM\\n\\nDataset used: TUSimple\\nDatasetlink: https://www.kaggle.com/datasets/manideep1108/tusimple\\n(23GB Dataset size)\\nAssign paths according to location on device\\n'"
      ]
     },
     "execution_count": 1,
     "metadata": {},
     "output_type": "execute_result"
    }
   ],
   "source": [
    "'''\n",
    "ROAD LANE LINE DETECTION SYSTEM\n",
    "\n",
    "Dataset used: TUSimple\n",
    "Datasetlink: https://www.kaggle.com/datasets/manideep1108/tusimple\n",
    "(23GB Dataset size)\n",
    "Assign paths according to location on device\n",
    "'''"
   ]
  },
  {
   "cell_type": "code",
   "execution_count": null,
   "id": "f6d0ea94-e25d-4fad-b621-18156b8c08ca",
   "metadata": {},
   "outputs": [],
   "source": [
    "# Importing neccesary libraries\n",
    "import os\n",
    "import cv2\n",
    "import numpy as np\n",
    "import pandas as pd\n",
    "import json\n",
    "import matplotlib.pyplot as pl\n",
    "from sklearn.model_selection import train_test_split\n",
    "import tensorflow as tf\n",
    "from tensorflow.keras import layers, models"
   ]
  },
  {
   "cell_type": "code",
   "execution_count": 3,
   "id": "fa9d80c2-59ca-42aa-9d28-4effffc698d7",
   "metadata": {},
   "outputs": [],
   "source": [
    "# Assigning paths\n",
    "data='/home/pranjaysaxena/Downloads/archive/TUSimple/train_set'\n",
    "label='/home/pranjaysaxena/Downloads/archive/TUSimple/train_set/label_data_0601.json'"
   ]
  },
  {
   "cell_type": "code",
   "execution_count": 4,
   "id": "cb9cdb64-bc60-47e5-afe5-365a5533f9fd",
   "metadata": {},
   "outputs": [],
   "source": [
    "with open(label,'r') as f:\n",
    "  labels = [json.loads(line) for line in f]"
   ]
  },
  {
   "cell_type": "code",
   "execution_count": 5,
   "id": "aa0352da-80c9-47e8-8741-c6a612ee0e95",
   "metadata": {},
   "outputs": [],
   "source": [
    "#Preprocessing data(images & labels)\n",
    "def preprocess_data(data,labels,img_size=(256,256)):\n",
    "  images = []\n",
    "  layers =[]\n",
    "  for label in labels:\n",
    "    img_path = os.path.join(data,label['raw_file'])\n",
    "    img = cv2.imread(img_path)\n",
    "    img = cv2.resize(img, img_size)\n",
    "    images.append(img)\n",
    "    layer = np.zeros((720, 1280), dtype=np.uint8)\n",
    "    lanes = label['lanes']\n",
    "    h_samples = label['h_samples']\n",
    "    for lane in lanes:\n",
    "      if len(lanes) > 0:\n",
    "        points = [(x,y) for x,y in zip(lane, h_samples) if x >= 0]\n",
    "        for i in range(len(points) - 1):\n",
    "          cv2.line(layer, points[i],points[i+1], 255, 5)\n",
    "    layer = cv2.resize(layer, img_size)\n",
    "    layers.append(layers)\n",
    "\n",
    "  return np.array(images), np.array(layers)"
   ]
  },
  {
   "cell_type": "code",
   "execution_count": null,
   "id": "6268e5be-cadd-419f-8028-7a7267e58e1f",
   "metadata": {},
   "outputs": [],
   "source": [
    "# Preprocessing the data\n",
    "images, layers = preprocess_data(data, labels)\n",
    "#Split data into training and evaluation sets\n",
    "X_train, X_eval, y_train, y_eval = train_test_split(images, layers, test_size=0.2, random_state=42)"
   ]
  },
  {
   "cell_type": "code",
   "execution_count": null,
   "id": "34feb6e0-c680-49cc-9c87-7918cf4c7fe7",
   "metadata": {},
   "outputs": [],
   "source": [
    "# Normalization Step\n",
    "X_train = X_train / 255.0\n",
    "X_eval = X_eval / 255.0\n",
    "y_train = y_train / 255.0\n",
    "y_eval = y_eval / 255.0\n",
    "\n",
    "# Dimension expansion of layers to match model outut shape\n",
    "y_train = np.expand_dims(y_train, axis=-1)\n",
    "y_eval = np.expand_dims(y_eval, axis=-1)"
   ]
  },
  {
   "cell_type": "code",
   "execution_count": null,
   "id": "bf13d1d0-c4cd-44a4-9d2f-781ceb31c25b",
   "metadata": {},
   "outputs": [],
   "source": [
    "# Model Defination\n",
    "def build_model(input_shape):\n",
    "  inputs = layers.Input(shape=input_shape)\n",
    "\n",
    "  conv1 = layers.Conv2D(32,(3,3),activation='relu',padding='same')(inputs)\n",
    "  pool1 = layers.MaxPooling2D((2,2))(conv1)\n",
    "\n",
    "  conv2 = layers.Conv2D(64,(3,3),activation='relu',padding='same')(pool1)\n",
    "  pool2 = layers.MaxPooling2D((2,2))(conv2)\n",
    "\n",
    "  conv3 = layers.Conv2D(128,(3,3),activation='relu',padding='same')(pool2)\n",
    "  pool3 = layers.MaxPooling2D((2,2))(conv3)\n",
    "\n",
    "  conv4 = layers.Conv2D(256,(3,3),activation='relu',padding='same')(pool3)\n",
    "\n",
    "  up1 = layers.Conv2DTranspose(128,(3,3),strides=(2,2),padding='same')(conv4)\n",
    "  concat1 = layers.concatenate([conv3,up1],axis=-1)\n",
    "  conv5 = layers.Conv2D(128,(3,3),activation='relu',padding='same')(concat1)\n",
    "\n",
    "  up2 = layers.Conv2DTranspose(64,(3,3),strides=(2,2),padding='same')(conv5)\n",
    "  concat2 = layers.concatenate([conv2,up2],axis=-1)\n",
    "  conv6 = layers.Conv2D(64,(3,3),activation='relu',padding='same')(concat2)\n",
    "\n",
    "  up3 = layers.Conv2DTranspose(32,(3,3),strides=(2,2),padding='same')(conv6)\n",
    "  concat3 = layers.concatenate([conv1,up3],axis=-1)\n",
    "  conv7 = layers.Conv2D(32,(3,3),activation='relu',padding='same')(concat3)\n",
    "\n",
    "  outputs = layers.Conv2D(1,(1,1),activation='sigmoid')(conv7)\n",
    "\n",
    "  model = models.Model(inputs,outputs)\n",
    "  model.compile(optimizer='adam',loss='binary_crossentropy',metrics=['accuracy'])\n",
    "\n",
    "  return model"
   ]
  },
  {
   "cell_type": "code",
   "execution_count": null,
   "id": "6dcca5aa-e555-4b6b-b9ea-6389737fb32b",
   "metadata": {},
   "outputs": [],
   "source": [
    "# Model Building\n",
    "input_shape = (256,256,3)\n",
    "model = build_model(input_shape)\n",
    "model.summary()"
   ]
  },
  {
   "cell_type": "code",
   "execution_count": null,
   "id": "d76490b0-7128-4e8b-b7db-3492d32ce5d4",
   "metadata": {},
   "outputs": [],
   "source": [
    "history = model.fit(X_train, y_train, epochs=10, batch_size=32, validation_data=(X_eval, y_eval), verbose=1)\n",
    "\n",
    "# Plot training & evaluation accuracies\n",
    "plt.plot(history.history['accuracy'])\n",
    "plt.plot(history.history['eval_accuracy'])\n",
    "plt.title('Model Accuracy')\n",
    "plt.ylabel('Accuracy')\n",
    "plt.xlabel('Epoch')\n",
    "plt.legend(['Train', 'Evaluation'], loc='upper left')\n",
    "plt.show()\n",
    "\n",
    "# Plot training & evaluation loss data\n",
    "plt.plot(history.history['loss'])\n",
    "plt.plot(history.history['val_loss'])\n",
    "plt.title('Model Loss')\n",
    "plt.ylabel('Loss')\n",
    "plt.xlabel('Epoch')\n",
    "plt.legend(['Train', 'Evaluation'], loc='upper left')\n",
    "plt.show()\n",
    "\n",
    "# Testing Model\n",
    "eval_loss,eval_acc = model.evaluate(X_eval,y_eval,verbose=2)\n",
    "print(f'Evaluation Loss: {eval_loss}')\n",
    "print(f'Evaluation Accuracy: {eval_acc}')\n",
    "\n",
    "# Predict on a few validation images\n",
    "predictions = model.predict(X_eval)\n",
    "\n",
    "# Plot results\n",
    "def plot_sample(i):\n",
    "  plt.figure(figsize=(10,5))\n",
    "  plt.subplot(1,3,1)\n",
    "  plt.title('Input Image')\n",
    "  plt.imshow(X_eval[i])\n",
    "\n",
    "  plt.subplot(1,3,2)\n",
    "  plt.title('Ground Truth')\n",
    "  plt.imshow(y_eval[i].reshape(256,256),cmap='gray')\n",
    "\n",
    "  plt.subplot(1,3,3)\n",
    "  plt.title('Prediction')\n",
    "  plt.imshow(predictions[i].reshape(256,256),cmap='gray')\n",
    "\n",
    "  plt.show()\n"
   ]
  },
  {
   "cell_type": "code",
   "execution_count": null,
   "id": "4c631d4b-7b3f-40a1-941a-8b83bb54cf74",
   "metadata": {},
   "outputs": [],
   "source": [
    "# Ploting a few samples\n",
    "for i in range(5):\n",
    "  plot_sample(i)"
   ]
  }
 ],
 "metadata": {
  "kernelspec": {
   "display_name": "Python 3 (ipykernel)",
   "language": "python",
   "name": "python3"
  },
  "language_info": {
   "codemirror_mode": {
    "name": "ipython",
    "version": 3
   },
   "file_extension": ".py",
   "mimetype": "text/x-python",
   "name": "python",
   "nbconvert_exporter": "python",
   "pygments_lexer": "ipython3",
   "version": "3.12.5"
  }
 },
 "nbformat": 4,
 "nbformat_minor": 5
}
